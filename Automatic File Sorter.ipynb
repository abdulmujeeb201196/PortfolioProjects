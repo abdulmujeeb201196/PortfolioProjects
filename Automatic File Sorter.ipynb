{
 "cells": [
  {
   "cell_type": "code",
   "execution_count": 1,
   "id": "913b8f35",
   "metadata": {},
   "outputs": [],
   "source": [
    "import os, shutil"
   ]
  },
  {
   "cell_type": "code",
   "execution_count": 18,
   "id": "030b52b7",
   "metadata": {},
   "outputs": [],
   "source": [
    "path = r\"C:\\Users\\Abdul\\Downloads/\"  ## r used for raw string, that reads symbols as well "
   ]
  },
  {
   "cell_type": "code",
   "execution_count": 19,
   "id": "08675cda",
   "metadata": {},
   "outputs": [],
   "source": [
    "filename = os.listdir(path)  # Checking files in folder"
   ]
  },
  {
   "cell_type": "code",
   "execution_count": 9,
   "id": "2933488a",
   "metadata": {},
   "outputs": [
    {
     "data": {
      "text/plain": [
       "False"
      ]
     },
     "execution_count": 9,
     "metadata": {},
     "output_type": "execute_result"
    }
   ],
   "source": [
    "os.path.exists(path + 'images')  # Checking if folder exist or not"
   ]
  },
  {
   "cell_type": "code",
   "execution_count": 20,
   "id": "9eb04b21",
   "metadata": {},
   "outputs": [
    {
     "name": "stdout",
     "output_type": "stream",
     "text": [
      "C:\\Users\\Abdul\\Downloads/Word Files\n",
      "C:\\Users\\Abdul\\Downloads/Excel Files\n",
      "C:\\Users\\Abdul\\Downloads/Videos\n"
     ]
    }
   ],
   "source": [
    "folder_names = ['Programs', 'Compressed', 'Word Files', 'Excel Files', 'Videos','PDF Files', 'Images']  ## Making New Folders\n",
    "\n",
    "for loop in range(0,7):\n",
    "    if not os.path.exists(path + folder_names[loop]):\n",
    "        print(path + folder_names[loop])\n",
    "        os.makedirs(path + folder_names[loop])"
   ]
  },
  {
   "cell_type": "code",
   "execution_count": 21,
   "id": "52b71ec2",
   "metadata": {},
   "outputs": [],
   "source": [
    "for file in filename:   ## Transferring Files into related folders\n",
    "    if \".exe\" in file and not os.path.exists(path + \"Programs/\"+ file):\n",
    "        shutil.move(path + file, path + \"Programs/\"+ file)\n",
    "    elif \".docx\" in file and not os.path.exists(path + \"Word Files/\"+ file):\n",
    "        shutil.move(path + file, path + \"Word Files/\"+ file)\n",
    "    elif \".zip\" in file and not os.path.exists(path + \"Compressed/\"+ file):\n",
    "        shutil.move(path + file, path + \"Compressed/\"+ file)\n",
    "    elif \".xlsx\" in file and not os.path.exists(path + \"Excel Files/\"+ file):\n",
    "        shutil.move(path + file, path + \"Excel Files/\"+ file)\n",
    "    elif \".mp4\" in file and not os.path.exists(path + \"Videos/\"+ file):\n",
    "        shutil.move(path + file, path + \"Videos/\"+ file)\n",
    "    elif \".pdf\" in file and not os.path.exists(path + \"PDF Files/\"+ file):\n",
    "        shutil.move(path + file, path + \"pdf_files/\"+ file)\n",
    "    elif \".jpg\" in file and not os.path.exists(path + \"Images/\"+ file):\n",
    "        shutil.move(path + file, path + \"Images/\"+ file)       "
   ]
  },
  {
   "cell_type": "code",
   "execution_count": null,
   "id": "6ec9cb94",
   "metadata": {},
   "outputs": [],
   "source": [
    "\n",
    "        "
   ]
  },
  {
   "cell_type": "code",
   "execution_count": null,
   "id": "6915a9ef",
   "metadata": {},
   "outputs": [],
   "source": []
  },
  {
   "cell_type": "code",
   "execution_count": null,
   "id": "73c16a6a",
   "metadata": {},
   "outputs": [],
   "source": []
  }
 ],
 "metadata": {
  "kernelspec": {
   "display_name": "Python 3 (ipykernel)",
   "language": "python",
   "name": "python3"
  },
  "language_info": {
   "codemirror_mode": {
    "name": "ipython",
    "version": 3
   },
   "file_extension": ".py",
   "mimetype": "text/x-python",
   "name": "python",
   "nbconvert_exporter": "python",
   "pygments_lexer": "ipython3",
   "version": "3.9.7"
  }
 },
 "nbformat": 4,
 "nbformat_minor": 5
}
